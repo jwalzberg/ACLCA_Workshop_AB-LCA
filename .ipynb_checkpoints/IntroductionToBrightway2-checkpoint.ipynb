{
 "cells": [
  {
   "cell_type": "markdown",
   "metadata": {},
   "source": [
    "<h1><center>Brightway2 introduction</center></h1><br />"
   ]
  },
  {
   "cell_type": "markdown",
   "metadata": {},
   "source": [
    "<img src=\"img/brght2.jpg\">"
   ]
  },
  {
   "cell_type": "markdown",
   "metadata": {},
   "source": [
    "Before we start... <br>\n",
    "...<b>Welcome to NREL!</b>\n",
    "<br><br>\n",
    "And a few useful links:\n",
    "<br>[Brightway2 website](https://brightway.dev/)\n",
    "<br>[Brightway2 tutorial notebook](https://github.com/maxkoslowski/Brightway2_Intro/blob/master/BW2_tutorial.ipynb)\n",
    "<br>[Brightway2 tutorial video](https://www.youtube.com/watch?v=EKYom7BQdJA) <br> <br>\n",
    "_Let's start!_"
   ]
  },
  {
   "cell_type": "code",
   "execution_count": 1,
   "metadata": {},
   "outputs": [],
   "source": [
    "import numpy as np\n",
    "import pandas as pd\n",
    "import matplotlib.pyplot as plt\n",
    "import seaborn as sns\n",
    "%matplotlib inline\n",
    "from brightway2 import *"
   ]
  },
  {
   "cell_type": "markdown",
   "metadata": {},
   "source": [
    "First we need to import the LCIA methods and the LCI database, herein [ecoinvent 3.5](https://ecoquery.ecoinvent.org/Account/LogOn?ReturnUrl=%2f), in the ecospold format:"
   ]
  },
  {
   "cell_type": "code",
   "execution_count": 2,
   "metadata": {},
   "outputs": [
    {
     "name": "stdout",
     "output_type": "stream",
     "text": [
      "Biosphere database already present!!! No setup is needed\n"
     ]
    },
    {
     "ename": "AssertionError",
     "evalue": "",
     "output_type": "error",
     "traceback": [
      "\u001b[1;31m---------------------------------------------------------------------------\u001b[0m",
      "\u001b[1;31mAssertionError\u001b[0m                            Traceback (most recent call last)",
      "Cell \u001b[1;32mIn[2], line 7\u001b[0m\n\u001b[0;32m      5\u001b[0m bw2setup()\n\u001b[0;32m      6\u001b[0m projects\u001b[38;5;241m.\u001b[39mset_current(\u001b[38;5;124m'\u001b[39m\u001b[38;5;124mMonteCarlo\u001b[39m\u001b[38;5;124m'\u001b[39m)\n\u001b[1;32m----> 7\u001b[0m eco3_5 \u001b[38;5;241m=\u001b[39m \u001b[43mSingleOutputEcospold2Importer\u001b[49m\u001b[43m(\u001b[49m\u001b[38;5;124;43m'\u001b[39;49m\u001b[38;5;124;43mC://Users/walzb/Dropbox/polymtl/DiversCIRAIG/ecoinventEcospold/datasets2/\u001b[39;49m\u001b[38;5;124;43m'\u001b[39;49m\u001b[43m,\u001b[49m\u001b[43m \u001b[49m\n\u001b[0;32m      8\u001b[0m \u001b[43m                                       \u001b[49m\u001b[38;5;124;43m'\u001b[39;49m\u001b[38;5;124;43mecoinvent3.5\u001b[39;49m\u001b[38;5;124;43m'\u001b[39;49m\u001b[43m)\u001b[49m\n\u001b[0;32m      9\u001b[0m eco3_5\u001b[38;5;241m.\u001b[39mapply_strategies()\n\u001b[0;32m     10\u001b[0m eco3_5\u001b[38;5;241m.\u001b[39mwrite_database()\n",
      "File \u001b[1;32mc:\\ProgramData\\anaconda3\\lib\\site-packages\\bw2io\\importers\\ecospold2.py:71\u001b[0m, in \u001b[0;36mSingleOutputEcospold2Importer.__init__\u001b[1;34m(self, dirpath, db_name, extractor, use_mp, signal)\u001b[0m\n\u001b[0;32m     69\u001b[0m start \u001b[38;5;241m=\u001b[39m time()\n\u001b[0;32m     70\u001b[0m \u001b[38;5;28;01mtry\u001b[39;00m:\n\u001b[1;32m---> 71\u001b[0m     \u001b[38;5;28mself\u001b[39m\u001b[38;5;241m.\u001b[39mdata \u001b[38;5;241m=\u001b[39m \u001b[43mextractor\u001b[49m\u001b[38;5;241;43m.\u001b[39;49m\u001b[43mextract\u001b[49m\u001b[43m(\u001b[49m\u001b[43mdirpath\u001b[49m\u001b[43m,\u001b[49m\u001b[43m \u001b[49m\u001b[43mdb_name\u001b[49m\u001b[43m,\u001b[49m\u001b[43m \u001b[49m\u001b[43muse_mp\u001b[49m\u001b[38;5;241;43m=\u001b[39;49m\u001b[43muse_mp\u001b[49m\u001b[43m)\u001b[49m\n\u001b[0;32m     72\u001b[0m \u001b[38;5;28;01mexcept\u001b[39;00m \u001b[38;5;167;01mRuntimeError\u001b[39;00m \u001b[38;5;28;01mas\u001b[39;00m e:\n\u001b[0;32m     73\u001b[0m     \u001b[38;5;28;01mraise\u001b[39;00m MultiprocessingError(\n\u001b[0;32m     74\u001b[0m         \u001b[38;5;124m\"\u001b[39m\u001b[38;5;124mMultiprocessing error; re-run using `use_mp=False`\u001b[39m\u001b[38;5;124m\"\u001b[39m\n\u001b[0;32m     75\u001b[0m     )\u001b[38;5;241m.\u001b[39mwith_traceback(e\u001b[38;5;241m.\u001b[39m__traceback__)\n",
      "File \u001b[1;32mc:\\ProgramData\\anaconda3\\lib\\site-packages\\bw2io\\extractors\\ecospold2.py:61\u001b[0m, in \u001b[0;36mEcospold2DataExtractor.extract\u001b[1;34m(cls, dirpath, db_name, use_mp)\u001b[0m\n\u001b[0;32m     59\u001b[0m \u001b[38;5;129m@classmethod\u001b[39m\n\u001b[0;32m     60\u001b[0m \u001b[38;5;28;01mdef\u001b[39;00m \u001b[38;5;21mextract\u001b[39m(\u001b[38;5;28mcls\u001b[39m, dirpath, db_name, use_mp\u001b[38;5;241m=\u001b[39m\u001b[38;5;28;01mTrue\u001b[39;00m):\n\u001b[1;32m---> 61\u001b[0m     \u001b[38;5;28;01massert\u001b[39;00m os\u001b[38;5;241m.\u001b[39mpath\u001b[38;5;241m.\u001b[39mexists(dirpath)\n\u001b[0;32m     62\u001b[0m     \u001b[38;5;28;01mif\u001b[39;00m os\u001b[38;5;241m.\u001b[39mpath\u001b[38;5;241m.\u001b[39misdir(dirpath):\n\u001b[0;32m     63\u001b[0m         filelist \u001b[38;5;241m=\u001b[39m [\n\u001b[0;32m     64\u001b[0m             filename\n\u001b[0;32m     65\u001b[0m             \u001b[38;5;28;01mfor\u001b[39;00m filename \u001b[38;5;129;01min\u001b[39;00m os\u001b[38;5;241m.\u001b[39mlistdir(dirpath)\n\u001b[0;32m     66\u001b[0m             \u001b[38;5;28;01mif\u001b[39;00m os\u001b[38;5;241m.\u001b[39mpath\u001b[38;5;241m.\u001b[39misfile(os\u001b[38;5;241m.\u001b[39mpath\u001b[38;5;241m.\u001b[39mjoin(dirpath, filename))\n\u001b[0;32m     67\u001b[0m             \u001b[38;5;129;01mand\u001b[39;00m filename\u001b[38;5;241m.\u001b[39msplit(\u001b[38;5;124m\"\u001b[39m\u001b[38;5;124m.\u001b[39m\u001b[38;5;124m\"\u001b[39m)[\u001b[38;5;241m-\u001b[39m\u001b[38;5;241m1\u001b[39m]\u001b[38;5;241m.\u001b[39mlower() \u001b[38;5;241m==\u001b[39m \u001b[38;5;124m\"\u001b[39m\u001b[38;5;124mspold\u001b[39m\u001b[38;5;124m\"\u001b[39m\n\u001b[0;32m     68\u001b[0m         ]\n",
      "\u001b[1;31mAssertionError\u001b[0m: "
     ]
    }
   ],
   "source": [
    "# Especially for the LCI database, it takes quite a long time... Therefore I already imported them here. \n",
    "# Note that we give a name to the database with: SingleOutputEcospold2Importer(path_database, name)\n",
    "# Then we build and save the database with .apply_strategies() and .write_database() resp.\n",
    "\n",
    "bw2setup()\n",
    "projects.set_current('MonteCarlo')\n",
    "eco3_5 = SingleOutputEcospold2Importer('C://Users/walzb/Dropbox/polymtl/DiversCIRAIG/ecoinventEcospold/datasets2/', \n",
    "                                       'ecoinvent3.5')\n",
    "eco3_5.apply_strategies()\n",
    "eco3_5.write_database()"
   ]
  },
  {
   "cell_type": "markdown",
   "metadata": {},
   "source": [
    "Now we need to specify the LCIA method we want to use and the database:<br>\n",
    "First let's look at the LCIA methods:"
   ]
  },
  {
   "cell_type": "code",
   "execution_count": null,
   "metadata": {},
   "outputs": [],
   "source": [
    "# We can see all LCIA methods that are included in brightway: \n",
    "print(list(methods))\n",
    "# Then we can access a specific method:\n",
    "method_name = ('IPCC 2013', 'climate change', 'GWP 100a')\n",
    "method = Method(method_name)"
   ]
  },
  {
   "cell_type": "markdown",
   "metadata": {},
   "source": [
    "We can look at the characterization factors of the chosen method:"
   ]
  },
  {
   "cell_type": "code",
   "execution_count": null,
   "metadata": {},
   "outputs": [],
   "source": [
    "method.load() # show all the characterization factors of a given method"
   ]
  },
  {
   "cell_type": "markdown",
   "metadata": {},
   "source": [
    "Now for the LCI database:"
   ]
  },
  {
   "cell_type": "code",
   "execution_count": null,
   "metadata": {},
   "outputs": [],
   "source": [
    "# As for the mdethos, we assign the database to a variable:\n",
    "e35 = Database(\"ecoinvent3.5\")"
   ]
  },
  {
   "cell_type": "markdown",
   "metadata": {},
   "source": [
    "We can have a look at the database:"
   ]
  },
  {
   "cell_type": "code",
   "execution_count": null,
   "metadata": {},
   "outputs": [],
   "source": [
    "e35.graph_technosphere()"
   ]
  },
  {
   "cell_type": "markdown",
   "metadata": {},
   "source": [
    "Now let's look search for a process:"
   ]
  },
  {
   "cell_type": "code",
   "execution_count": null,
   "metadata": {},
   "outputs": [],
   "source": [
    "polyethylene = Database(\"ecoinvent3.5\").search(\"polyethylene production, low density\")\n",
    "print(polyethylene)"
   ]
  },
  {
   "cell_type": "markdown",
   "metadata": {},
   "source": [
    "Note: It can be useful to have [ecoquery](https://ecoquery.ecoinvent.org/Account/LogOn?ReturnUrl=%2f) or OpenLCA open as well to look for the names of proccesses. <br> <br> \n",
    "We are just interested about the production of polyethylene granulate so we can choose that process:"
   ]
  },
  {
   "cell_type": "code",
   "execution_count": null,
   "metadata": {},
   "outputs": [],
   "source": [
    "polyethylene_granulate = polyethylene[1]\n",
    "print(polyethylene_granulate)"
   ]
  },
  {
   "cell_type": "markdown",
   "metadata": {},
   "source": [
    "It's time to do a LCA, first we define the functionnal unit:"
   ]
  },
  {
   "cell_type": "code",
   "execution_count": null,
   "metadata": {},
   "outputs": [],
   "source": [
    "# Brightway uses a dictionnary with a process element as the key where the value represent the demand for that process\n",
    "functional_unit = {polyethylene_granulate: 1}"
   ]
  },
  {
   "cell_type": "markdown",
   "metadata": {},
   "source": [
    "Then we specify the LCA model with the functionnal unit and the LCIA method:"
   ]
  },
  {
   "cell_type": "code",
   "execution_count": null,
   "metadata": {},
   "outputs": [],
   "source": [
    "# We need to specify the method by its name and not the method variable we defined earlier \n",
    "lca = LCA(functional_unit, method_name)"
   ]
  },
  {
   "cell_type": "markdown",
   "metadata": {},
   "source": [
    "Finally we can do the LCI and LCIA!"
   ]
  },
  {
   "cell_type": "code",
   "execution_count": null,
   "metadata": {},
   "outputs": [],
   "source": [
    "# Life cycle inventory\n",
    "lca.lci()\n",
    "# Life cycle impact assessment\n",
    "lca.lcia()"
   ]
  },
  {
   "cell_type": "markdown",
   "metadata": {},
   "source": [
    "And get the LCA score:"
   ]
  },
  {
   "cell_type": "code",
   "execution_count": null,
   "metadata": {},
   "outputs": [],
   "source": [
    "lca.score"
   ]
  },
  {
   "cell_type": "markdown",
   "metadata": {},
   "source": [
    "In a nicer way:"
   ]
  },
  {
   "cell_type": "code",
   "execution_count": null,
   "metadata": {},
   "outputs": [],
   "source": [
    "print(\"The climate change impact of \", functional_unit[polyethylene_granulate], polyethylene_granulate, \" is \", lca.score,  \n",
    "     methods.get(method_name).get('unit'))"
   ]
  },
  {
   "cell_type": "markdown",
   "metadata": {},
   "source": [
    "Of course we can get many more info:"
   ]
  },
  {
   "cell_type": "code",
   "execution_count": null,
   "metadata": {},
   "outputs": [],
   "source": [
    "# lca technosphere matrix\n",
    "print(lca.technosphere_matrix)"
   ]
  },
  {
   "cell_type": "code",
   "execution_count": null,
   "metadata": {},
   "outputs": [],
   "source": [
    "# lca inventory\n",
    "print(lca.inventory)"
   ]
  },
  {
   "cell_type": "code",
   "execution_count": null,
   "metadata": {},
   "outputs": [],
   "source": [
    "# lca characterized inventory\n",
    "print(lca.characterized_inventory)"
   ]
  },
  {
   "cell_type": "markdown",
   "metadata": {},
   "source": [
    "An advantage of brightway is that MonteCarlo is faster than with SimaPro or OpenLCA. Here a simple example with our polyethylene:"
   ]
  },
  {
   "cell_type": "code",
   "execution_count": null,
   "metadata": {},
   "outputs": [],
   "source": [
    "mc = MonteCarloLCA(demand={polyethylene_granulate: 1}, method=method_name)\n",
    "scores = [next(mc) for _ in range(1000)]"
   ]
  },
  {
   "cell_type": "markdown",
   "metadata": {},
   "source": [
    "We can now plot our results and export the figure:"
   ]
  },
  {
   "cell_type": "code",
   "execution_count": null,
   "metadata": {
    "scrolled": true
   },
   "outputs": [],
   "source": [
    "sns.set(style=\"whitegrid\", color_codes=True)\n",
    "ax = sns.distplot(scores, norm_hist=False, kde=False)\n",
    "ax.set(xlabel='kgCO2 eq', ylabel='Number of occurence')\n",
    "plt.savefig(\"MonteCarloPolyethylene.png\", bbox_inches='tight', figsize=(5.5, 3.5), dpi=500)"
   ]
  },
  {
   "cell_type": "markdown",
   "metadata": {},
   "source": [
    "this is just an intro... There are so much more things we can do (see [Brightway2 tutorial notebook](https://github.com/maxkoslowski/Brightway2_Intro/blob/master/BW2_tutorial.ipynb) for a more detailed tutorial). Here a couple other things: <br><br>\n",
    "We can get results for several impact categories by looping through methods:"
   ]
  },
  {
   "cell_type": "code",
   "execution_count": null,
   "metadata": {},
   "outputs": [],
   "source": [
    "method_names = [('IPCC 2013', 'climate change', 'GWP 100a'), ('TRACI (obsolete)', 'environmental impact', 'ozone depletion')]"
   ]
  },
  {
   "cell_type": "code",
   "execution_count": null,
   "metadata": {},
   "outputs": [],
   "source": [
    "for i in range(len(method_names)):\n",
    "    lca = LCA(functional_unit, method_names[i])\n",
    "    lca.lci()\n",
    "    lca.lcia()\n",
    "    print(\"The impact of \", functional_unit[polyethylene_granulate], polyethylene_granulate, \" is \", lca.score,  \n",
    "     methods.get(method_names[i]).get('unit'))"
   ]
  },
  {
   "cell_type": "markdown",
   "metadata": {},
   "source": [
    "...and of course we can build more complicated product systems! <br><br>\n",
    "Let's just transport our polyethylene, 200 km... First we create a new activity (process):"
   ]
  },
  {
   "cell_type": "code",
   "execution_count": null,
   "metadata": {},
   "outputs": [],
   "source": [
    "# Each code is unique. Once created an error will occur if you try to create the same process again.\n",
    "if e35.get('t_poly2') not in e35:\n",
    "    transport_polyethylene = e35.new_activity(code = 't_poly2', name = \"transport_polyethylene\", unit = \"unit\")\n",
    "    transport_polyethylene.save()\n",
    "else:\n",
    "    pass"
   ]
  },
  {
   "cell_type": "markdown",
   "metadata": {},
   "source": [
    "We can look at our newly created process accessing it through is unique code:"
   ]
  },
  {
   "cell_type": "code",
   "execution_count": null,
   "metadata": {},
   "outputs": [],
   "source": [
    "transport_polyethylene = e35.get('t_poly2')\n",
    "polyethylene_granulate.key"
   ]
  },
  {
   "cell_type": "markdown",
   "metadata": {},
   "source": [
    "Now let's add the transport and production processes of our polyethylene:"
   ]
  },
  {
   "cell_type": "code",
   "execution_count": null,
   "metadata": {},
   "outputs": [],
   "source": [
    "transport_polyethylene.new_exchange(input=polyethylene_granulate.key, amount=1, type='technosphere').save()\n",
    "transport = [act for act in e35 if act['name']=='market for transport, freight, lorry 3.5-7.5 metric ton, EURO5' and \n",
    "             'RoW' in act['location']][0]\n",
    "transport_polyethylene.new_exchange(input=transport.key, amount=200/1000, type='technosphere').save()\n",
    "lca = LCA({transport_polyethylene: 1}, method_name)\n",
    "lca.lci()\n",
    "lca.lcia()\n",
    "print(lca.score)"
   ]
  },
  {
   "cell_type": "code",
   "execution_count": null,
   "metadata": {},
   "outputs": [],
   "source": [
    "# Careful! Each time .new_exchange.save() is used it adds a new exchange to the process! \n",
    "# First we can look at the exchanges:\n",
    "for exc in transport_polyethylene.exchanges():\n",
    "    print(exc)\n",
    "# Then we delete them all:\n",
    "for Exchange in transport_polyethylene.exchanges():\n",
    "    Exchange.delete()\n",
    "lca = LCA({transport_polyethylene: 1}, method_name)\n",
    "lca.lci()\n",
    "lca.lcia()\n",
    "print(\"Empty process: \", lca.score)\n",
    "transport_polyethylene.new_exchange(input=polyethylene_granulate.key, amount=1, type='technosphere').save()\n",
    "lca = LCA({transport_polyethylene: 1}, method_name)\n",
    "lca.lci()\n",
    "lca.lcia()\n",
    "print(\"With polyethylene production: \", lca.score)\n",
    "transport = [act for act in e35 if act['name']=='market for transport, freight, lorry 3.5-7.5 metric ton, EURO5' and \n",
    "             'RoW' in act['location']][0]\n",
    "transport_polyethylene.new_exchange(input=transport.key, amount=200/1000, type='technosphere').save()\n",
    "lca = LCA({transport_polyethylene: 1}, method_name)\n",
    "lca.lci()\n",
    "lca.lcia()\n",
    "print(\"With polyethylene production and transport: \", lca.score)"
   ]
  },
  {
   "cell_type": "markdown",
   "metadata": {},
   "source": [
    "And we can do our MonteCarlo on production and transport:"
   ]
  },
  {
   "cell_type": "code",
   "execution_count": null,
   "metadata": {},
   "outputs": [],
   "source": [
    "mc = MonteCarloLCA(demand={transport_polyethylene: 1}, method=method_name)\n",
    "scores = [next(mc) for _ in range(1000)]\n",
    "sns.set(style=\"whitegrid\", color_codes=True)\n",
    "ax = sns.distplot(scores, norm_hist=False, kde=False)\n",
    "ax.set(xlabel='kgCO2 eq', ylabel='Number of occurence')\n",
    "plt.savefig(\"MonteCarloPolyethylene&transport.png\", bbox_inches='tight', figsize=(5.5, 3.5), dpi=500)"
   ]
  },
  {
   "cell_type": "markdown",
   "metadata": {},
   "source": [
    "There are so many more things we can do with brightway! One very useful one is to import a dataset from excel (see [Brightway2 tutorial notebook](https://github.com/maxkoslowski/Brightway2_Intro/blob/master/BW2_tutorial.ipynb)).<br><br>\n",
    "Another cool library to use in combination with brightway was made to facilitate uncertainty analysis (see https://doi.org/10.1007/s11367-018-1444-x):\n",
    "<br><br>\n",
    "To use pre-samples:<br>\n",
    "https://presamples.readthedocs.io/en/latest/ <br>\n",
    "https://github.com/PascalLesage/presamples/à <br>\n",
    "To access the library:<br>\n",
    "https://bw2preagg.readthedocs.io/en/latest/ <br>\n",
    "https://github.com/PascalLesage/bw2-database-preaggregator <br>\n",
    "https://github.com/CIRAIG/bw2waterbalancer <br>\n",
    "https://github.com/CIRAIG/bw2landbalancer <br>\n",
    "<br>\n",
    "Using this library avoid incoherence, e.g., when comparing two products with a MonteCarlo analysis. For the two products similar processes should indeed draw the same values in the MonteCarlo analysis."
   ]
  }
 ],
 "metadata": {
  "anaconda-cloud": {},
  "kernelspec": {
   "display_name": "Python 3 (ipykernel)",
   "language": "python",
   "name": "python3"
  },
  "language_info": {
   "codemirror_mode": {
    "name": "ipython",
    "version": 3
   },
   "file_extension": ".py",
   "mimetype": "text/x-python",
   "name": "python",
   "nbconvert_exporter": "python",
   "pygments_lexer": "ipython3",
   "version": "3.10.9"
  }
 },
 "nbformat": 4,
 "nbformat_minor": 1
}
